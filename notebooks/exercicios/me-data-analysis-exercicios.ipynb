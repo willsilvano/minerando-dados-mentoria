{
 "cells": [
  {
   "cell_type": "markdown",
   "metadata": {},
   "source": [
    "# Mentoria Evolution - Data Analysis"
   ]
  },
  {
   "cell_type": "markdown",
   "metadata": {},
   "source": [
    "# Data Analysis - Exercícios"
   ]
  },
  {
   "cell_type": "markdown",
   "metadata": {},
   "source": [
    " www.minerandodados.com.br  "
   ]
  },
  {
   "cell_type": "markdown",
   "metadata": {},
   "source": [
    "1) Importe a biblioteca para Análise de Dados"
   ]
  },
  {
   "cell_type": "code",
   "execution_count": 1,
   "metadata": {},
   "outputs": [],
   "source": [
    "import pandas as pd"
   ]
  },
  {
   "cell_type": "markdown",
   "metadata": {},
   "source": [
    "2) Leia a base de dados **kc_house_data.csv** localizada no diretorio **datasets** e crie um Dataframe chamado **df**"
   ]
  },
  {
   "cell_type": "markdown",
   "metadata": {},
   "source": [
    "3) Utilizando o Dataframe criado faça:\n",
    "- a) Conte a quantidade de linhas.\n",
    "- b) Imprima as informações do Dataframe.\n",
    "- c) Imprima o nome das colunas do Dataframe\n",
    "- d) Imprima as informações estatisticas da coluna **bedrooms**\n",
    "- e) Imprima os valores únicos da coluna **bedrooms**\n",
    "- f) Imprima o valor médio da coluna **bathrooms**"
   ]
  },
  {
   "cell_type": "markdown",
   "metadata": {},
   "source": [
    "3) Some a quantidade de valores nulos de cada coluna do Dataframe"
   ]
  },
  {
   "cell_type": "markdown",
   "metadata": {},
   "source": [
    "4) Remova as linhas onde tenha pela menos um registro faltante em algum atributo"
   ]
  },
  {
   "cell_type": "markdown",
   "metadata": {},
   "source": [
    "5) Preencha com o valor 0 os valores missing da coluna bedrooms"
   ]
  },
  {
   "cell_type": "markdown",
   "metadata": {},
   "source": [
    "6) Com os seus conhecimentos em consultas faça:\n",
    "- a) Retorne todos os imoveis que tenham o número de **bathrooms maior que 1**\n",
    "- b) Retorne todos os imoveis que tenham a quantidade **de bedrooms igual a 4**\n",
    "- c) Conte o retorno anterior\n",
    "- d) Ordena o Dataframe pela coluna **price** em **ordem decrescente**\n",
    "- e) Agrupe e conte quantidade de imóveis por tamanho de quartos"
   ]
  },
  {
   "cell_type": "markdown",
   "metadata": {},
   "source": [
    "7) Exclua a coluna **zipcode** em **memória**"
   ]
  },
  {
   "cell_type": "markdown",
   "metadata": {},
   "source": [
    "8) Crie uma coluna que seja a soma das colunas **bathrooms** e **bedrooms** com o nome **comodos**"
   ]
  },
  {
   "cell_type": "markdown",
   "metadata": {},
   "source": [
    "9) Visualize a distribuição dos imoveis por número de quartos"
   ]
  },
  {
   "cell_type": "markdown",
   "metadata": {},
   "source": [
    "10) Visualize os imoveis em duas dimensões utilizando as colunas **bathrooms** e **price**"
   ]
  },
  {
   "cell_type": "markdown",
   "metadata": {},
   "source": [
    "11) Gere uma **planilha do Excel** a partir do Dataframe criado"
   ]
  },
  {
   "cell_type": "markdown",
   "metadata": {},
   "source": [
    "**Minerando Dados** \n",
    "\n",
    "* Faça os exercícios e me envie no endereço: contato@minerandodados.com.br"
   ]
  }
 ],
 "metadata": {
  "kernelspec": {
   "display_name": "Python 3",
   "language": "python",
   "name": "python3"
  },
  "language_info": {
   "codemirror_mode": {
    "name": "ipython",
    "version": 3
   },
   "file_extension": ".py",
   "mimetype": "text/x-python",
   "name": "python",
   "nbconvert_exporter": "python",
   "pygments_lexer": "ipython3",
   "version": "3.6.5"
  },
  "widgets": {
   "application/vnd.jupyter.widget-state+json": {
    "state": {},
    "version_major": 2,
    "version_minor": 0
   }
  }
 },
 "nbformat": 4,
 "nbformat_minor": 2
}
